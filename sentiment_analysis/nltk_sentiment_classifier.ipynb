{
 "cells": [
  {
   "cell_type": "code",
   "execution_count": 18,
   "id": "8fe0d1e5",
   "metadata": {},
   "outputs": [],
   "source": [
    "from nltk.tokenize import word_tokenize\n",
    "from nltk.corpus import stopwords\n",
    "from nltk.sentiment import SentimentIntensityAnalyzer\n",
    "\n",
    "from typing import List\n",
    "\n",
    "import pandas as pd"
   ]
  },
  {
   "cell_type": "code",
   "execution_count": 13,
   "id": "e05e200a",
   "metadata": {},
   "outputs": [
    {
     "name": "stderr",
     "output_type": "stream",
     "text": [
      "[nltk_data] Downloading package vader_lexicon to\n",
      "[nltk_data]     C:\\Users\\james\\AppData\\Roaming\\nltk_data...\n"
     ]
    },
    {
     "data": {
      "text/plain": [
       "True"
      ]
     },
     "execution_count": 13,
     "metadata": {},
     "output_type": "execute_result"
    }
   ],
   "source": [
    "import nltk\n",
    "nltk.download('vader_lexicon')"
   ]
  },
  {
   "cell_type": "code",
   "execution_count": 8,
   "id": "1ce5c4ee",
   "metadata": {},
   "outputs": [],
   "source": [
    "stop_words = set(stopwords.words('english'))"
   ]
  },
  {
   "cell_type": "code",
   "execution_count": 9,
   "id": "08015f26",
   "metadata": {},
   "outputs": [],
   "source": [
    "#this will tokenize, lowercase and remove stopwords\n",
    "\n",
    "def tokenize_preproced_effs(preprocessed_list:List) -> List:\n",
    "    return [[token.lower() for token in word_tokenize(complaint) if token.lower() not in stop_words] for complaint in preprocessed_list]"
   ]
  },
  {
   "cell_type": "code",
   "execution_count": 14,
   "id": "406e2e57",
   "metadata": {},
   "outputs": [],
   "source": [
    "sia = SentimentIntensityAnalyzer()"
   ]
  },
  {
   "cell_type": "code",
   "execution_count": 19,
   "id": "050a5b9c",
   "metadata": {},
   "outputs": [
    {
     "name": "stdout",
     "output_type": "stream",
     "text": [
      "{'neg': 0.0, 'neu': 0.157, 'pos': 0.843, 'compound': 0.7482}\n"
     ]
    }
   ],
   "source": [
    "text = \"I love NLTK!!!!!\"\n",
    "\n",
    "scores = sia.polarity_scores(text)\n",
    "\n",
    "print(scores)"
   ]
  },
  {
   "cell_type": "markdown",
   "id": "059b01e0",
   "metadata": {},
   "source": [
    "I'm taking the executive decision that we only really want to decide whether our call is negative or non-negative - this is a bigger decider in whether we have complaints or not."
   ]
  },
  {
   "cell_type": "code",
   "execution_count": 20,
   "id": "35c80c79",
   "metadata": {},
   "outputs": [
    {
     "data": {
      "text/plain": [
       "(0.0, 1.0)"
      ]
     },
     "execution_count": 20,
     "metadata": {},
     "output_type": "execute_result"
    }
   ],
   "source": [
    "(scores['neg'], scores['neu'] + scores['pos'])"
   ]
  },
  {
   "cell_type": "code",
   "execution_count": 22,
   "id": "697aef14",
   "metadata": {},
   "outputs": [],
   "source": [
    "def sentiment_list(preprocessed_list:List) -> pd.DataFrame:\n",
    "    #Gives us a list telling us what the key is of the max number (aside from compound)\n",
    "    sentiment_label = []\n",
    "    how_negative = []\n",
    "    how_non_negative = []\n",
    "    sia = SentimentIntensityAnalyzer()\n",
    "    \n",
    "    for complaint in preprocessed_list:\n",
    "        scores = sia.polarity_scores(complaint)\n",
    "        \n",
    "        if scores['neg'] >= scores['neu'] + scores['pos']:\n",
    "            sentiment_label.append('neg')\n",
    "            how_negative.append(scores['neg'])\n",
    "            how_non_negative.append(scores['neu'] + scores['pos'])\n",
    "        else:\n",
    "            sentiment_label.append('non_neg')\n",
    "            how_negative.append(scores['neg'])\n",
    "            how_non_negative.append(scores['neu'] + scores['pos'])\n",
    "            \n",
    "    return pd.DataFrame({'complaint': preprocessed_list, \n",
    "                        'sentiment_label': sentiment_label, \n",
    "                        'negative_score': how_negative,\n",
    "                       'non_negative_score': how_non_negative})"
   ]
  },
  {
   "cell_type": "code",
   "execution_count": 23,
   "id": "f06c419c",
   "metadata": {},
   "outputs": [
    {
     "data": {
      "text/html": [
       "<div>\n",
       "<style scoped>\n",
       "    .dataframe tbody tr th:only-of-type {\n",
       "        vertical-align: middle;\n",
       "    }\n",
       "\n",
       "    .dataframe tbody tr th {\n",
       "        vertical-align: top;\n",
       "    }\n",
       "\n",
       "    .dataframe thead th {\n",
       "        text-align: right;\n",
       "    }\n",
       "</style>\n",
       "<table border=\"1\" class=\"dataframe\">\n",
       "  <thead>\n",
       "    <tr style=\"text-align: right;\">\n",
       "      <th></th>\n",
       "      <th>complaint</th>\n",
       "      <th>sentiment_label</th>\n",
       "      <th>negative_score</th>\n",
       "      <th>non_negative_score</th>\n",
       "    </tr>\n",
       "  </thead>\n",
       "  <tbody>\n",
       "    <tr>\n",
       "      <th>0</th>\n",
       "      <td>I love NLTK!!!!!</td>\n",
       "      <td>non_neg</td>\n",
       "      <td>0.000</td>\n",
       "      <td>1.000</td>\n",
       "    </tr>\n",
       "    <tr>\n",
       "      <th>1</th>\n",
       "      <td>I HATE NLTK</td>\n",
       "      <td>neg</td>\n",
       "      <td>0.787</td>\n",
       "      <td>0.213</td>\n",
       "    </tr>\n",
       "  </tbody>\n",
       "</table>\n",
       "</div>"
      ],
      "text/plain": [
       "          complaint sentiment_label  negative_score  non_negative_score\n",
       "0  I love NLTK!!!!!         non_neg           0.000               1.000\n",
       "1       I HATE NLTK             neg           0.787               0.213"
      ]
     },
     "execution_count": 23,
     "metadata": {},
     "output_type": "execute_result"
    }
   ],
   "source": [
    "sentiment_list([\"I love NLTK!!!!!\", \"I HATE NLTK\"])"
   ]
  },
  {
   "cell_type": "code",
   "execution_count": 24,
   "id": "4b503440",
   "metadata": {},
   "outputs": [],
   "source": [
    "#great!"
   ]
  }
 ],
 "metadata": {
  "kernelspec": {
   "display_name": "Python 3",
   "language": "python",
   "name": "python3"
  },
  "language_info": {
   "codemirror_mode": {
    "name": "ipython",
    "version": 3
   },
   "file_extension": ".py",
   "mimetype": "text/x-python",
   "name": "python",
   "nbconvert_exporter": "python",
   "pygments_lexer": "ipython3",
   "version": "3.8.8"
  }
 },
 "nbformat": 4,
 "nbformat_minor": 5
}
